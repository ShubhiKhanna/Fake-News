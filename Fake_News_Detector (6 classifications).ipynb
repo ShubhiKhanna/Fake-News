{
 "cells": [
  {
   "cell_type": "code",
   "execution_count": 2,
   "metadata": {
    "colab": {},
    "colab_type": "code",
    "id": "Irxf9QUnoP0C"
   },
   "outputs": [],
   "source": [
    "import pandas as pd\n",
    "import numpy as np\n",
    "import seaborn as sb\n",
    "import nltk\n",
    "from nltk.stem import SnowballStemmer\n",
    "from nltk.tokenize import word_tokenize\n",
    "from nltk.stem.porter import PorterStemmer"
   ]
  },
  {
   "cell_type": "markdown",
   "metadata": {
    "colab_type": "text",
    "id": "_ypMBwF3kbWb"
   },
   "source": [
    "* ## Data Pre_Processing"
   ]
  },
  {
   "cell_type": "code",
   "execution_count": 3,
   "metadata": {
    "colab": {
     "base_uri": "https://localhost:8080/",
     "height": 70
    },
    "colab_type": "code",
    "id": "ZY0WYt4qodUb",
    "outputId": "de8b28cc-f7a2-4f81-e905-42325d476b8f"
   },
   "outputs": [
    {
     "name": "stderr",
     "output_type": "stream",
     "text": [
      "C:\\Users\\shubh\\Anaconda3\\lib\\site-packages\\IPython\\core\\interactiveshell.py:3071: DtypeWarning: Columns (3,5,6,7,9,27,28,29,30,31,32,33,34,40,41,42,43,44,45,46,47,48,49,55,56,57,58,59,60,61,62,64,70,71,72,73,74,75,76,79,85,86,87,88,89,90,91,93,94,100,101,102,103,104,105,106,107,108,109,115,116,117,118,119,120,121,123,124,130) have mixed types.Specify dtype option on import or set low_memory=False.\n",
      "  has_raised = await self.run_ast_nodes(code_ast.body, cell_name,\n"
     ]
    }
   ],
   "source": [
    "test = pd.read_csv('test.csv')\n",
    "train = pd.read_csv('train2.csv')"
   ]
  },
  {
   "cell_type": "code",
   "execution_count": 4,
   "metadata": {
    "colab": {
     "base_uri": "https://localhost:8080/",
     "height": 195
    },
    "colab_type": "code",
    "id": "Y1Ut_B99kmI-",
    "outputId": "17c717b2-aa40-4519-9f0f-7b0ddb11fb42"
   },
   "outputs": [
    {
     "data": {
      "text/html": [
       "<div>\n",
       "<style scoped>\n",
       "    .dataframe tbody tr th:only-of-type {\n",
       "        vertical-align: middle;\n",
       "    }\n",
       "\n",
       "    .dataframe tbody tr th {\n",
       "        vertical-align: top;\n",
       "    }\n",
       "\n",
       "    .dataframe thead th {\n",
       "        text-align: right;\n",
       "    }\n",
       "</style>\n",
       "<table border=\"1\" class=\"dataframe\">\n",
       "  <thead>\n",
       "    <tr style=\"text-align: right;\">\n",
       "      <th></th>\n",
       "      <th>Column 2</th>\n",
       "      <th>Label</th>\n",
       "      <th>Statement</th>\n",
       "      <th>Statement1</th>\n",
       "    </tr>\n",
       "  </thead>\n",
       "  <tbody>\n",
       "    <tr>\n",
       "      <th>0</th>\n",
       "      <td>0</td>\n",
       "      <td>TRUE</td>\n",
       "      <td>Building a wall on the U.S.-Mexico border will...</td>\n",
       "      <td>Meantime, engineering experts agree the wall w...</td>\n",
       "    </tr>\n",
       "    <tr>\n",
       "      <th>1</th>\n",
       "      <td>1</td>\n",
       "      <td>FALSE</td>\n",
       "      <td>Wisconsin is on pace to double the number of l...</td>\n",
       "      <td>She cited layoff notices received by the state...</td>\n",
       "    </tr>\n",
       "    <tr>\n",
       "      <th>2</th>\n",
       "      <td>2</td>\n",
       "      <td>FALSE</td>\n",
       "      <td>Says John McCain has done nothing to help the ...</td>\n",
       "      <td>Trump said that McCain \"has done nothing to he...</td>\n",
       "    </tr>\n",
       "    <tr>\n",
       "      <th>3</th>\n",
       "      <td>3</td>\n",
       "      <td>half-true</td>\n",
       "      <td>Suzanne Bonamici supports a plan that will cut...</td>\n",
       "      <td>But spending still goes up. In addition, many ...</td>\n",
       "    </tr>\n",
       "    <tr>\n",
       "      <th>4</th>\n",
       "      <td>4</td>\n",
       "      <td>pants-fire</td>\n",
       "      <td>When asked by a reporter whether hes at the ce...</td>\n",
       "      <td>Our rating A Democratic Party web video making...</td>\n",
       "    </tr>\n",
       "  </tbody>\n",
       "</table>\n",
       "</div>"
      ],
      "text/plain": [
       "   Column 2       Label                                          Statement  \\\n",
       "0         0        TRUE  Building a wall on the U.S.-Mexico border will...   \n",
       "1         1       FALSE  Wisconsin is on pace to double the number of l...   \n",
       "2         2       FALSE  Says John McCain has done nothing to help the ...   \n",
       "3         3   half-true  Suzanne Bonamici supports a plan that will cut...   \n",
       "4         4  pants-fire  When asked by a reporter whether hes at the ce...   \n",
       "\n",
       "                                          Statement1  \n",
       "0  Meantime, engineering experts agree the wall w...  \n",
       "1  She cited layoff notices received by the state...  \n",
       "2  Trump said that McCain \"has done nothing to he...  \n",
       "3  But spending still goes up. In addition, many ...  \n",
       "4  Our rating A Democratic Party web video making...  "
      ]
     },
     "execution_count": 4,
     "metadata": {},
     "output_type": "execute_result"
    }
   ],
   "source": [
    "test.head()"
   ]
  },
  {
   "cell_type": "code",
   "execution_count": 5,
   "metadata": {
    "colab": {
     "base_uri": "https://localhost:8080/",
     "height": 630
    },
    "colab_type": "code",
    "id": "t4zlSB6VktzI",
    "outputId": "7cc5fe64-5085-4974-922b-5b4e2ef65dbe"
   },
   "outputs": [
    {
     "data": {
      "text/html": [
       "<div>\n",
       "<style scoped>\n",
       "    .dataframe tbody tr th:only-of-type {\n",
       "        vertical-align: middle;\n",
       "    }\n",
       "\n",
       "    .dataframe tbody tr th {\n",
       "        vertical-align: top;\n",
       "    }\n",
       "\n",
       "    .dataframe thead th {\n",
       "        text-align: right;\n",
       "    }\n",
       "</style>\n",
       "<table border=\"1\" class=\"dataframe\">\n",
       "  <thead>\n",
       "    <tr style=\"text-align: right;\">\n",
       "      <th></th>\n",
       "      <th>Column 2</th>\n",
       "      <th>Label</th>\n",
       "      <th>Statement</th>\n",
       "      <th>Unnamed: 3</th>\n",
       "      <th>Unnamed: 4</th>\n",
       "      <th>Unnamed: 5</th>\n",
       "      <th>Unnamed: 6</th>\n",
       "      <th>Unnamed: 7</th>\n",
       "      <th>Unnamed: 8</th>\n",
       "      <th>Unnamed: 9</th>\n",
       "      <th>...</th>\n",
       "      <th>Unnamed: 121</th>\n",
       "      <th>Unnamed: 122</th>\n",
       "      <th>Unnamed: 123</th>\n",
       "      <th>Unnamed: 124</th>\n",
       "      <th>Unnamed: 125</th>\n",
       "      <th>Unnamed: 126</th>\n",
       "      <th>Unnamed: 127</th>\n",
       "      <th>Unnamed: 128</th>\n",
       "      <th>Unnamed: 129</th>\n",
       "      <th>Unnamed: 130</th>\n",
       "    </tr>\n",
       "  </thead>\n",
       "  <tbody>\n",
       "    <tr>\n",
       "      <th>0</th>\n",
       "      <td>0</td>\n",
       "      <td>FALSE</td>\n",
       "      <td>Says the Annies List political group supports ...</td>\n",
       "      <td>NaN</td>\n",
       "      <td>NaN</td>\n",
       "      <td>NaN</td>\n",
       "      <td>NaN</td>\n",
       "      <td>NaN</td>\n",
       "      <td>NaN</td>\n",
       "      <td>NaN</td>\n",
       "      <td>...</td>\n",
       "      <td>NaN</td>\n",
       "      <td>NaN</td>\n",
       "      <td>NaN</td>\n",
       "      <td>NaN</td>\n",
       "      <td>NaN</td>\n",
       "      <td>NaN</td>\n",
       "      <td>NaN</td>\n",
       "      <td>NaN</td>\n",
       "      <td>NaN</td>\n",
       "      <td>NaN</td>\n",
       "    </tr>\n",
       "    <tr>\n",
       "      <th>1</th>\n",
       "      <td>1</td>\n",
       "      <td>half-true</td>\n",
       "      <td>When did the decline of coal start? It started...</td>\n",
       "      <td>NaN</td>\n",
       "      <td>NaN</td>\n",
       "      <td>NaN</td>\n",
       "      <td>NaN</td>\n",
       "      <td>NaN</td>\n",
       "      <td>NaN</td>\n",
       "      <td>NaN</td>\n",
       "      <td>...</td>\n",
       "      <td>NaN</td>\n",
       "      <td>NaN</td>\n",
       "      <td>NaN</td>\n",
       "      <td>NaN</td>\n",
       "      <td>NaN</td>\n",
       "      <td>NaN</td>\n",
       "      <td>NaN</td>\n",
       "      <td>NaN</td>\n",
       "      <td>NaN</td>\n",
       "      <td>NaN</td>\n",
       "    </tr>\n",
       "    <tr>\n",
       "      <th>2</th>\n",
       "      <td>2</td>\n",
       "      <td>mostly-true</td>\n",
       "      <td>\"Hillary Clinton agrees with John McCain \"\"by ...</td>\n",
       "      <td>NaN</td>\n",
       "      <td>NaN</td>\n",
       "      <td>NaN</td>\n",
       "      <td>NaN</td>\n",
       "      <td>NaN</td>\n",
       "      <td>NaN</td>\n",
       "      <td>NaN</td>\n",
       "      <td>...</td>\n",
       "      <td>NaN</td>\n",
       "      <td>NaN</td>\n",
       "      <td>NaN</td>\n",
       "      <td>NaN</td>\n",
       "      <td>NaN</td>\n",
       "      <td>NaN</td>\n",
       "      <td>NaN</td>\n",
       "      <td>NaN</td>\n",
       "      <td>NaN</td>\n",
       "      <td>NaN</td>\n",
       "    </tr>\n",
       "    <tr>\n",
       "      <th>3</th>\n",
       "      <td>8</td>\n",
       "      <td>half-true</td>\n",
       "      <td>However, it took $19.5 million in Oregon Lotte...</td>\n",
       "      <td>NaN</td>\n",
       "      <td>NaN</td>\n",
       "      <td>NaN</td>\n",
       "      <td>NaN</td>\n",
       "      <td>NaN</td>\n",
       "      <td>NaN</td>\n",
       "      <td>NaN</td>\n",
       "      <td>...</td>\n",
       "      <td>NaN</td>\n",
       "      <td>NaN</td>\n",
       "      <td>NaN</td>\n",
       "      <td>NaN</td>\n",
       "      <td>NaN</td>\n",
       "      <td>NaN</td>\n",
       "      <td>NaN</td>\n",
       "      <td>NaN</td>\n",
       "      <td>NaN</td>\n",
       "      <td>NaN</td>\n",
       "    </tr>\n",
       "    <tr>\n",
       "      <th>4</th>\n",
       "      <td>9</td>\n",
       "      <td>mostly-true</td>\n",
       "      <td>Says GOP primary opponents Glenn Grothman and ...</td>\n",
       "      <td>NaN</td>\n",
       "      <td>NaN</td>\n",
       "      <td>NaN</td>\n",
       "      <td>NaN</td>\n",
       "      <td>NaN</td>\n",
       "      <td>NaN</td>\n",
       "      <td>NaN</td>\n",
       "      <td>...</td>\n",
       "      <td>NaN</td>\n",
       "      <td>NaN</td>\n",
       "      <td>NaN</td>\n",
       "      <td>NaN</td>\n",
       "      <td>NaN</td>\n",
       "      <td>NaN</td>\n",
       "      <td>NaN</td>\n",
       "      <td>NaN</td>\n",
       "      <td>NaN</td>\n",
       "      <td>NaN</td>\n",
       "    </tr>\n",
       "  </tbody>\n",
       "</table>\n",
       "<p>5 rows × 131 columns</p>\n",
       "</div>"
      ],
      "text/plain": [
       "   Column 2        Label                                          Statement  \\\n",
       "0         0        FALSE  Says the Annies List political group supports ...   \n",
       "1         1    half-true  When did the decline of coal start? It started...   \n",
       "2         2  mostly-true  \"Hillary Clinton agrees with John McCain \"\"by ...   \n",
       "3         8    half-true  However, it took $19.5 million in Oregon Lotte...   \n",
       "4         9  mostly-true  Says GOP primary opponents Glenn Grothman and ...   \n",
       "\n",
       "  Unnamed: 3 Unnamed: 4 Unnamed: 5 Unnamed: 6 Unnamed: 7  Unnamed: 8  \\\n",
       "0        NaN        NaN        NaN        NaN        NaN         NaN   \n",
       "1        NaN        NaN        NaN        NaN        NaN         NaN   \n",
       "2        NaN        NaN        NaN        NaN        NaN         NaN   \n",
       "3        NaN        NaN        NaN        NaN        NaN         NaN   \n",
       "4        NaN        NaN        NaN        NaN        NaN         NaN   \n",
       "\n",
       "  Unnamed: 9  ... Unnamed: 121 Unnamed: 122 Unnamed: 123 Unnamed: 124  \\\n",
       "0        NaN  ...          NaN          NaN          NaN          NaN   \n",
       "1        NaN  ...          NaN          NaN          NaN          NaN   \n",
       "2        NaN  ...          NaN          NaN          NaN          NaN   \n",
       "3        NaN  ...          NaN          NaN          NaN          NaN   \n",
       "4        NaN  ...          NaN          NaN          NaN          NaN   \n",
       "\n",
       "  Unnamed: 125 Unnamed: 126 Unnamed: 127 Unnamed: 128 Unnamed: 129  \\\n",
       "0          NaN          NaN          NaN          NaN          NaN   \n",
       "1          NaN          NaN          NaN          NaN          NaN   \n",
       "2          NaN          NaN          NaN          NaN          NaN   \n",
       "3          NaN          NaN          NaN          NaN          NaN   \n",
       "4          NaN          NaN          NaN          NaN          NaN   \n",
       "\n",
       "  Unnamed: 130  \n",
       "0          NaN  \n",
       "1          NaN  \n",
       "2          NaN  \n",
       "3          NaN  \n",
       "4          NaN  \n",
       "\n",
       "[5 rows x 131 columns]"
      ]
     },
     "execution_count": 5,
     "metadata": {},
     "output_type": "execute_result"
    }
   ],
   "source": [
    "train.head()"
   ]
  },
  {
   "cell_type": "markdown",
   "metadata": {
    "colab_type": "text",
    "id": "uX_VVO0-lNYA"
   },
   "source": [
    "### Data Cleaning..."
   ]
  },
  {
   "cell_type": "code",
   "execution_count": 6,
   "metadata": {
    "colab": {
     "base_uri": "https://localhost:8080/",
     "height": 286
    },
    "colab_type": "code",
    "id": "ZUUZV6qfk1B7",
    "outputId": "167807c6-57cb-4773-96df-8ed250f392bc"
   },
   "outputs": [
    {
     "name": "stdout",
     "output_type": "stream",
     "text": [
      "Processing...\n",
      "<class 'pandas.core.frame.DataFrame'>\n",
      "RangeIndex: 5012 entries, 0 to 5011\n",
      "Columns: 131 entries, Column 2 to Unnamed: 130\n",
      "dtypes: float64(46), int64(1), object(84)\n",
      "memory usage: 5.0+ MB\n",
      "<class 'pandas.core.frame.DataFrame'>\n",
      "RangeIndex: 1267 entries, 0 to 1266\n",
      "Data columns (total 4 columns):\n",
      " #   Column      Non-Null Count  Dtype \n",
      "---  ------      --------------  ----- \n",
      " 0   Column 2    1267 non-null   int64 \n",
      " 1   Label       1267 non-null   object\n",
      " 2   Statement   1267 non-null   object\n",
      " 3   Statement1  1258 non-null   object\n",
      "dtypes: int64(1), object(3)\n",
      "memory usage: 39.7+ KB\n",
      "Cleaning over..\n"
     ]
    }
   ],
   "source": [
    "def Data_Clean():\n",
    "  print(\"Processing...\")\n",
    "# Train\n",
    "  train.isnull().sum()\n",
    "  train.info()\n",
    "\n",
    "\n",
    "# Test\n",
    "  test.isnull().sum()\n",
    "  test.info()\n",
    "\n",
    "\n",
    "Data_Clean()\n",
    "print(\"Cleaning over..\")"
   ]
  },
  {
   "cell_type": "code",
   "execution_count": 7,
   "metadata": {
    "colab": {
     "base_uri": "https://localhost:8080/",
     "height": 647
    },
    "colab_type": "code",
    "id": "qbur66yIlTur",
    "outputId": "1fcb893b-435a-45be-aacf-cf7674b8165e"
   },
   "outputs": [
    {
     "data": {
      "text/html": [
       "<div>\n",
       "<style scoped>\n",
       "    .dataframe tbody tr th:only-of-type {\n",
       "        vertical-align: middle;\n",
       "    }\n",
       "\n",
       "    .dataframe tbody tr th {\n",
       "        vertical-align: top;\n",
       "    }\n",
       "\n",
       "    .dataframe thead th {\n",
       "        text-align: right;\n",
       "    }\n",
       "</style>\n",
       "<table border=\"1\" class=\"dataframe\">\n",
       "  <thead>\n",
       "    <tr style=\"text-align: right;\">\n",
       "      <th></th>\n",
       "      <th>Column 2</th>\n",
       "      <th>Label</th>\n",
       "      <th>Statement</th>\n",
       "      <th>Unnamed: 3</th>\n",
       "      <th>Unnamed: 4</th>\n",
       "      <th>Unnamed: 5</th>\n",
       "      <th>Unnamed: 6</th>\n",
       "      <th>Unnamed: 7</th>\n",
       "      <th>Unnamed: 8</th>\n",
       "      <th>Unnamed: 9</th>\n",
       "      <th>...</th>\n",
       "      <th>Unnamed: 121</th>\n",
       "      <th>Unnamed: 122</th>\n",
       "      <th>Unnamed: 123</th>\n",
       "      <th>Unnamed: 124</th>\n",
       "      <th>Unnamed: 125</th>\n",
       "      <th>Unnamed: 126</th>\n",
       "      <th>Unnamed: 127</th>\n",
       "      <th>Unnamed: 128</th>\n",
       "      <th>Unnamed: 129</th>\n",
       "      <th>Unnamed: 130</th>\n",
       "    </tr>\n",
       "  </thead>\n",
       "  <tbody>\n",
       "    <tr>\n",
       "      <th>0</th>\n",
       "      <td>0</td>\n",
       "      <td>FALSE</td>\n",
       "      <td>Says the Annies List political group supports ...</td>\n",
       "      <td>NaN</td>\n",
       "      <td>NaN</td>\n",
       "      <td>NaN</td>\n",
       "      <td>NaN</td>\n",
       "      <td>NaN</td>\n",
       "      <td>NaN</td>\n",
       "      <td>NaN</td>\n",
       "      <td>...</td>\n",
       "      <td>NaN</td>\n",
       "      <td>NaN</td>\n",
       "      <td>NaN</td>\n",
       "      <td>NaN</td>\n",
       "      <td>NaN</td>\n",
       "      <td>NaN</td>\n",
       "      <td>NaN</td>\n",
       "      <td>NaN</td>\n",
       "      <td>NaN</td>\n",
       "      <td>NaN</td>\n",
       "    </tr>\n",
       "    <tr>\n",
       "      <th>1</th>\n",
       "      <td>1</td>\n",
       "      <td>half-true</td>\n",
       "      <td>When did the decline of coal start? It started...</td>\n",
       "      <td>NaN</td>\n",
       "      <td>NaN</td>\n",
       "      <td>NaN</td>\n",
       "      <td>NaN</td>\n",
       "      <td>NaN</td>\n",
       "      <td>NaN</td>\n",
       "      <td>NaN</td>\n",
       "      <td>...</td>\n",
       "      <td>NaN</td>\n",
       "      <td>NaN</td>\n",
       "      <td>NaN</td>\n",
       "      <td>NaN</td>\n",
       "      <td>NaN</td>\n",
       "      <td>NaN</td>\n",
       "      <td>NaN</td>\n",
       "      <td>NaN</td>\n",
       "      <td>NaN</td>\n",
       "      <td>NaN</td>\n",
       "    </tr>\n",
       "    <tr>\n",
       "      <th>2</th>\n",
       "      <td>2</td>\n",
       "      <td>mostly-true</td>\n",
       "      <td>\"Hillary Clinton agrees with John McCain \"\"by ...</td>\n",
       "      <td>NaN</td>\n",
       "      <td>NaN</td>\n",
       "      <td>NaN</td>\n",
       "      <td>NaN</td>\n",
       "      <td>NaN</td>\n",
       "      <td>NaN</td>\n",
       "      <td>NaN</td>\n",
       "      <td>...</td>\n",
       "      <td>NaN</td>\n",
       "      <td>NaN</td>\n",
       "      <td>NaN</td>\n",
       "      <td>NaN</td>\n",
       "      <td>NaN</td>\n",
       "      <td>NaN</td>\n",
       "      <td>NaN</td>\n",
       "      <td>NaN</td>\n",
       "      <td>NaN</td>\n",
       "      <td>NaN</td>\n",
       "    </tr>\n",
       "    <tr>\n",
       "      <th>3</th>\n",
       "      <td>8</td>\n",
       "      <td>half-true</td>\n",
       "      <td>However, it took $19.5 million in Oregon Lotte...</td>\n",
       "      <td>NaN</td>\n",
       "      <td>NaN</td>\n",
       "      <td>NaN</td>\n",
       "      <td>NaN</td>\n",
       "      <td>NaN</td>\n",
       "      <td>NaN</td>\n",
       "      <td>NaN</td>\n",
       "      <td>...</td>\n",
       "      <td>NaN</td>\n",
       "      <td>NaN</td>\n",
       "      <td>NaN</td>\n",
       "      <td>NaN</td>\n",
       "      <td>NaN</td>\n",
       "      <td>NaN</td>\n",
       "      <td>NaN</td>\n",
       "      <td>NaN</td>\n",
       "      <td>NaN</td>\n",
       "      <td>NaN</td>\n",
       "    </tr>\n",
       "    <tr>\n",
       "      <th>4</th>\n",
       "      <td>9</td>\n",
       "      <td>mostly-true</td>\n",
       "      <td>Says GOP primary opponents Glenn Grothman and ...</td>\n",
       "      <td>NaN</td>\n",
       "      <td>NaN</td>\n",
       "      <td>NaN</td>\n",
       "      <td>NaN</td>\n",
       "      <td>NaN</td>\n",
       "      <td>NaN</td>\n",
       "      <td>NaN</td>\n",
       "      <td>...</td>\n",
       "      <td>NaN</td>\n",
       "      <td>NaN</td>\n",
       "      <td>NaN</td>\n",
       "      <td>NaN</td>\n",
       "      <td>NaN</td>\n",
       "      <td>NaN</td>\n",
       "      <td>NaN</td>\n",
       "      <td>NaN</td>\n",
       "      <td>NaN</td>\n",
       "      <td>NaN</td>\n",
       "    </tr>\n",
       "  </tbody>\n",
       "</table>\n",
       "<p>5 rows × 131 columns</p>\n",
       "</div>"
      ],
      "text/plain": [
       "   Column 2        Label                                          Statement  \\\n",
       "0         0        FALSE  Says the Annies List political group supports ...   \n",
       "1         1    half-true  When did the decline of coal start? It started...   \n",
       "2         2  mostly-true  \"Hillary Clinton agrees with John McCain \"\"by ...   \n",
       "3         8    half-true  However, it took $19.5 million in Oregon Lotte...   \n",
       "4         9  mostly-true  Says GOP primary opponents Glenn Grothman and ...   \n",
       "\n",
       "  Unnamed: 3 Unnamed: 4 Unnamed: 5 Unnamed: 6 Unnamed: 7  Unnamed: 8  \\\n",
       "0        NaN        NaN        NaN        NaN        NaN         NaN   \n",
       "1        NaN        NaN        NaN        NaN        NaN         NaN   \n",
       "2        NaN        NaN        NaN        NaN        NaN         NaN   \n",
       "3        NaN        NaN        NaN        NaN        NaN         NaN   \n",
       "4        NaN        NaN        NaN        NaN        NaN         NaN   \n",
       "\n",
       "  Unnamed: 9  ... Unnamed: 121 Unnamed: 122 Unnamed: 123 Unnamed: 124  \\\n",
       "0        NaN  ...          NaN          NaN          NaN          NaN   \n",
       "1        NaN  ...          NaN          NaN          NaN          NaN   \n",
       "2        NaN  ...          NaN          NaN          NaN          NaN   \n",
       "3        NaN  ...          NaN          NaN          NaN          NaN   \n",
       "4        NaN  ...          NaN          NaN          NaN          NaN   \n",
       "\n",
       "  Unnamed: 125 Unnamed: 126 Unnamed: 127 Unnamed: 128 Unnamed: 129  \\\n",
       "0          NaN          NaN          NaN          NaN          NaN   \n",
       "1          NaN          NaN          NaN          NaN          NaN   \n",
       "2          NaN          NaN          NaN          NaN          NaN   \n",
       "3          NaN          NaN          NaN          NaN          NaN   \n",
       "4          NaN          NaN          NaN          NaN          NaN   \n",
       "\n",
       "  Unnamed: 130  \n",
       "0          NaN  \n",
       "1          NaN  \n",
       "2          NaN  \n",
       "3          NaN  \n",
       "4          NaN  \n",
       "\n",
       "[5 rows x 131 columns]"
      ]
     },
     "execution_count": 7,
     "metadata": {},
     "output_type": "execute_result"
    }
   ],
   "source": [
    "train.head()"
   ]
  },
  {
   "cell_type": "code",
   "execution_count": 8,
   "metadata": {
    "colab": {
     "base_uri": "https://localhost:8080/",
     "height": 50
    },
    "colab_type": "code",
    "id": "OK2gNBxglWoQ",
    "outputId": "38e4689f-931b-48f6-99d0-9d1b1fa7647a"
   },
   "outputs": [
    {
     "name": "stdout",
     "output_type": "stream",
     "text": [
      "Shape of TRAIN DATA:  (5012, 131)\n",
      "Shape of TEST DATA:  (1267, 4)\n"
     ]
    }
   ],
   "source": [
    "# Shape of each set\n",
    "print(\"Shape of TRAIN DATA: \", train.shape)\n",
    "print(\"Shape of TEST DATA: \", test.shape)"
   ]
  },
  {
   "cell_type": "code",
   "execution_count": 9,
   "metadata": {
    "colab": {
     "base_uri": "https://localhost:8080/",
     "height": 336
    },
    "colab_type": "code",
    "id": "-OyEag93me3n",
    "outputId": "affb887e-ce52-4fdc-a86c-4918a24bd325"
   },
   "outputs": [
    {
     "data": {
      "text/plain": [
       "(           Column 2  Unnamed: 8  Unnamed: 20  Unnamed: 21  Unnamed: 22  \\\n",
       " count   5012.000000    7.000000     6.000000     6.000000     6.000000   \n",
       " mean    5032.917598   27.857143    10.666667     9.500000     8.333333   \n",
       " std     2971.190640   60.028961    14.165686    12.340989     8.891944   \n",
       " min        0.000000    0.000000     0.000000     1.000000     1.000000   \n",
       " 25%     2480.750000    0.500000     1.000000     1.250000     1.000000   \n",
       " 50%     4922.500000    1.000000     4.500000     5.000000     5.500000   \n",
       " 75%     7667.250000   15.000000    15.500000    11.000000    13.750000   \n",
       " max    10239.000000  163.000000    36.000000    33.000000    22.000000   \n",
       " \n",
       "        Unnamed: 23  Unnamed: 24  Unnamed: 35  Unnamed: 36  Unnamed: 37  ...  \\\n",
       " count     6.000000     6.000000     4.000000     4.000000     4.000000  ...   \n",
       " mean     11.666667     2.333333     1.750000     1.500000     1.500000  ...   \n",
       " std      15.895492     3.386247     0.957427     1.914854     1.914854  ...   \n",
       " min       0.000000     0.000000     1.000000     0.000000     0.000000  ...   \n",
       " 25%       2.250000     0.000000     1.000000     0.000000     0.000000  ...   \n",
       " 50%       4.000000     0.500000     1.500000     1.000000     1.000000  ...   \n",
       " 75%      15.500000     4.000000     2.250000     2.500000     2.500000  ...   \n",
       " max      41.000000     8.000000     3.000000     4.000000     4.000000  ...   \n",
       " \n",
       "        Unnamed: 111  Unnamed: 112  Unnamed: 113  Unnamed: 114  Unnamed: 122  \\\n",
       " count           1.0           1.0           1.0           1.0           0.0   \n",
       " mean            5.0           8.0           5.0           3.0           NaN   \n",
       " std             NaN           NaN           NaN           NaN           NaN   \n",
       " min             5.0           8.0           5.0           3.0           NaN   \n",
       " 25%             5.0           8.0           5.0           3.0           NaN   \n",
       " 50%             5.0           8.0           5.0           3.0           NaN   \n",
       " 75%             5.0           8.0           5.0           3.0           NaN   \n",
       " max             5.0           8.0           5.0           3.0           NaN   \n",
       " \n",
       "        Unnamed: 125  Unnamed: 126  Unnamed: 127  Unnamed: 128  Unnamed: 129  \n",
       " count           1.0           1.0           1.0           1.0           1.0  \n",
       " mean           14.0           6.0          10.0          10.0           1.0  \n",
       " std             NaN           NaN           NaN           NaN           NaN  \n",
       " min            14.0           6.0          10.0          10.0           1.0  \n",
       " 25%            14.0           6.0          10.0          10.0           1.0  \n",
       " 50%            14.0           6.0          10.0          10.0           1.0  \n",
       " 75%            14.0           6.0          10.0          10.0           1.0  \n",
       " max            14.0           6.0          10.0          10.0           1.0  \n",
       " \n",
       " [8 rows x 47 columns],\n",
       "           Column 2\n",
       " count  1267.000000\n",
       " mean    633.000000\n",
       " std     365.895705\n",
       " min       0.000000\n",
       " 25%     316.500000\n",
       " 50%     633.000000\n",
       " 75%     949.500000\n",
       " max    1266.000000)"
      ]
     },
     "execution_count": 9,
     "metadata": {},
     "output_type": "execute_result"
    }
   ],
   "source": [
    "train.describe(), test.describe()"
   ]
  },
  {
   "cell_type": "code",
   "execution_count": 48,
   "metadata": {
    "colab": {
     "base_uri": "https://localhost:8080/",
     "height": 300
    },
    "colab_type": "code",
    "id": "eS3zbZyQmj08",
    "outputId": "dd50060e-146f-4dbf-ad76-746e40735e5f"
   },
   "outputs": [
    {
     "data": {
      "text/plain": [
       "<matplotlib.axes._subplots.AxesSubplot at 0x19bf644a1c0>"
      ]
     },
     "execution_count": 48,
     "metadata": {},
     "output_type": "execute_result"
    },
    {
     "data": {
      "image/png": "[encoded data removed]",
      "text/plain": [
       "<Figure size 432x288 with 1 Axes>"
      ]
     },
     "metadata": {
      "needs_background": "light"
     },
     "output_type": "display_data"
    }
   ],
   "source": [
    "# Distribution of classes for prediction\n",
    "def Class_Distr(datafile):\n",
    "    return sb.countplot(x='Label', data= datafile, palette='Set3')\n",
    "\n",
    "# Even Distribution of data between Train and Test dataset\n",
    "\n",
    "Class_Distr(train)\n",
    "Class_Distr(test)\n"
   ]
  },
  {
   "cell_type": "code",
   "execution_count": 11,
   "metadata": {
    "colab": {},
    "colab_type": "code",
    "id": "t7B9HQ_jmtdv"
   },
   "outputs": [],
   "source": [
    "# Saving the original Data for future\n",
    "train_orig = train.copy()\n",
    "test_orig = test.copy()"
   ]
  },
  {
   "cell_type": "code",
   "execution_count": 12,
   "metadata": {
    "colab": {},
    "colab_type": "code",
    "id": "dClkjtDSm7GM"
   },
   "outputs": [],
   "source": [
    "# Stemming \n",
    "def stemming(str_tokens, str_stemmer):\n",
    "    stemmed_str = []\n",
    "    for token_i in str_token:\n",
    "        stemmed.append(str_stemmer.stem(token_i))\n",
    "\n",
    "    return stemmed"
   ]
  },
  {
   "cell_type": "code",
   "execution_count": 13,
   "metadata": {
    "colab": {},
    "colab_type": "code",
    "id": "NNCiNd6rm-UO"
   },
   "outputs": [],
   "source": [
    "# Data process\n",
    "\n",
    "def data_process(data, exclude_stopword = True, stem = True):\n",
    "  str_tokens = [w.lower() for w in data]\n",
    "  stemmed_tokens = str_tokens\n",
    "  stemmed_tokens = stemming(str_tokens, eng_stemmer)\n",
    "  stemmed_tokens = [w for w in stemmed_tokens if w not in stopwords ]\n",
    "  \n",
    "  return tokens_stemmed\n",
    "  "
   ]
  },
  {
   "cell_type": "code",
   "execution_count": 14,
   "metadata": {
    "colab": {},
    "colab_type": "code",
    "id": "_Qgb8UConCxc"
   },
   "outputs": [],
   "source": [
    " \n",
    "#creating ngrams\n",
    "#unigram \n",
    "def create_unigram(words):\n",
    "    assert type(words) == list\n",
    "    return words\n",
    "\n",
    "#bigram\n",
    "def create_bigrams(words):\n",
    "    assert type(words) == list\n",
    "    gap = 0\n",
    "    joinned_str = \" \"\n",
    "    Len = len(words)\n",
    "    if Len > 1:\n",
    "        lst = []\n",
    "        for i in range(Len-1):\n",
    "            for k in range(1,gap+2):\n",
    "                if i+k < Len:\n",
    "                    lst.append(joinned_str.join([words[i],words[i+k]]))\n",
    "    else:\n",
    "        #set it as unigram\n",
    "        lst = create_unigram(words)\n",
    "    return lst"
   ]
  },
  {
   "cell_type": "code",
   "execution_count": 15,
   "metadata": {
    "colab": {},
    "colab_type": "code",
    "id": "3WMxAcE9nFrw"
   },
   "outputs": [],
   "source": [
    "# Trigram creation\n",
    "\n",
    "def create_trigrams(words):\n",
    "    assert type(words) == list\n",
    "    gap == 0\n",
    "    joinned_str = \" \"\n",
    "    Len = len(words)\n",
    "    if L > 2:\n",
    "        lst = []\n",
    "        for i in range(1,gap+2):\n",
    "            for k1 in range(1, gap+2):\n",
    "                for k2 in range(1,gap+2):\n",
    "                    if i+k1 < Len and i+k1+k2 < Len:\n",
    "                        lst.append(joinned_str.join([words[i], words[i+k1],words[i+k1+k2]]))\n",
    "        else:\n",
    "            #set is as bigram\n",
    "            lst = create_bigram(words)\n",
    "    return lst"
   ]
  },
  {
   "cell_type": "code",
   "execution_count": 16,
   "metadata": {
    "colab": {},
    "colab_type": "code",
    "id": "wsmuu8MbnIjK"
   },
   "outputs": [],
   "source": [
    "porter_str = PorterStemmer()"
   ]
  },
  {
   "cell_type": "code",
   "execution_count": 17,
   "metadata": {
    "colab": {},
    "colab_type": "code",
    "id": "PnqKrt8TnLKL"
   },
   "outputs": [],
   "source": [
    "def porter_tokenizer(statement):\n",
    "    return [porter.stem(word) for word in statement.split()]\n"
   ]
  },
  {
   "cell_type": "markdown",
   "metadata": {
    "colab_type": "text",
    "id": "fED71KJunQMV"
   },
   "source": [
    "* ## Feature Scalling.."
   ]
  },
  {
   "cell_type": "code",
   "execution_count": 18,
   "metadata": {
    "colab": {
     "base_uri": "https://localhost:8080/",
     "height": 322
    },
    "colab_type": "code",
    "id": "57BawY0WnPUt",
    "outputId": "5868d2a4-9be9-4e28-f3eb-8005060ae74e"
   },
   "outputs": [
    {
     "name": "stdout",
     "output_type": "stream",
     "text": [
      "Requirement already satisfied: gensim in c:\\users\\shubh\\anaconda3\\lib\\site-packages (3.8.3)\n",
      "Requirement already satisfied: smart-open>=1.8.1 in c:\\users\\shubh\\anaconda3\\lib\\site-packages (from gensim) (3.0.0)\n",
      "Requirement already satisfied: scipy>=0.18.1 in c:\\users\\shubh\\anaconda3\\lib\\site-packages (from gensim) (1.5.0)\n",
      "Requirement already satisfied: six>=1.5.0 in c:\\users\\shubh\\anaconda3\\lib\\site-packages (from gensim) (1.15.0)\n",
      "Requirement already satisfied: numpy>=1.11.3 in c:\\users\\shubh\\anaconda3\\lib\\site-packages (from gensim) (1.19.5)\n",
      "Requirement already satisfied: Cython==0.29.14 in c:\\users\\shubh\\anaconda3\\lib\\site-packages (from gensim) (0.29.14)\n",
      "Requirement already satisfied: requests in c:\\users\\shubh\\anaconda3\\lib\\site-packages (from smart-open>=1.8.1->gensim) (2.24.0)\n",
      "Requirement already satisfied: chardet<4,>=3.0.2 in c:\\users\\shubh\\anaconda3\\lib\\site-packages (from requests->smart-open>=1.8.1->gensim) (3.0.4)\n",
      "Requirement already satisfied: certifi>=2017.4.17 in c:\\users\\shubh\\anaconda3\\lib\\site-packages (from requests->smart-open>=1.8.1->gensim) (2020.6.20)\n",
      "Requirement already satisfied: idna<3,>=2.5 in c:\\users\\shubh\\anaconda3\\lib\\site-packages (from requests->smart-open>=1.8.1->gensim) (2.10)\n",
      "Requirement already satisfied: urllib3!=1.25.0,!=1.25.1,<1.26,>=1.21.1 in c:\\users\\shubh\\anaconda3\\lib\\site-packages (from requests->smart-open>=1.8.1->gensim) (1.25.9)\n"
     ]
    }
   ],
   "source": [
    "! pip install gensim"
   ]
  },
  {
   "cell_type": "code",
   "execution_count": 19,
   "metadata": {
    "colab": {
     "base_uri": "https://localhost:8080/",
     "height": 1000
    },
    "colab_type": "code",
    "id": "3JHB-DdOnZ98",
    "outputId": "a2997d5f-c54a-4e77-999f-74e6a54004e3"
   },
   "outputs": [
    {
     "name": "stderr",
     "output_type": "stream",
     "text": [
      "[nltk_data] Downloading collection 'all'\n",
      "[nltk_data]    | \n",
      "[nltk_data]    | Downloading package abc to\n",
      "[nltk_data]    |     C:\\Users\\shubh\\AppData\\Roaming\\nltk_data...\n",
      "[nltk_data]    |   Package abc is already up-to-date!\n",
      "[nltk_data]    | Downloading package alpino to\n",
      "[nltk_data]    |     C:\\Users\\shubh\\AppData\\Roaming\\nltk_data...\n",
      "[nltk_data]    |   Package alpino is already up-to-date!\n",
      "[nltk_data]    | Downloading package biocreative_ppi to\n",
      "[nltk_data]    |     C:\\Users\\shubh\\AppData\\Roaming\\nltk_data...\n",
      "[nltk_data]    |   Package biocreative_ppi is already up-to-date!\n",
      "[nltk_data]    | Downloading package brown to\n",
      "[nltk_data]    |     C:\\Users\\shubh\\AppData\\Roaming\\nltk_data...\n",
      "[nltk_data]    |   Package brown is already up-to-date!\n",
      "[nltk_data]    | Downloading package brown_tei to\n",
      "[nltk_data]    |     C:\\Users\\shubh\\AppData\\Roaming\\nltk_data...\n",
      "[nltk_data]    |   Package brown_tei is already up-to-date!\n",
      "[nltk_data]    | Downloading package cess_cat to\n",
      "[nltk_data]    |     C:\\Users\\shubh\\AppData\\Roaming\\nltk_data...\n",
      "[nltk_data]    |   Package cess_cat is already up-to-date!\n",
      "[nltk_data]    | Downloading package cess_esp to\n",
      "[nltk_data]    |     C:\\Users\\shubh\\AppData\\Roaming\\nltk_data...\n",
      "[nltk_data]    |   Package cess_esp is already up-to-date!\n",
      "[nltk_data]    | Downloading package chat80 to\n",
      "[nltk_data]    |     C:\\Users\\shubh\\AppData\\Roaming\\nltk_data...\n",
      "[nltk_data]    |   Package chat80 is already up-to-date!\n",
      "[nltk_data]    | Downloading package city_database to\n",
      "[nltk_data]    |     C:\\Users\\shubh\\AppData\\Roaming\\nltk_data...\n",
      "[nltk_data]    |   Package city_database is already up-to-date!\n",
      "[nltk_data]    | Downloading package cmudict to\n",
      "[nltk_data]    |     C:\\Users\\shubh\\AppData\\Roaming\\nltk_data...\n",
      "[nltk_data]    |   Package cmudict is already up-to-date!\n",
      "[nltk_data]    | Downloading package comparative_sentences to\n",
      "[nltk_data]    |     C:\\Users\\shubh\\AppData\\Roaming\\nltk_data...\n",
      "[nltk_data]    |   Package comparative_sentences is already up-to-\n",
      "[nltk_data]    |       date!\n",
      "[nltk_data]    | Downloading package comtrans to\n",
      "[nltk_data]    |     C:\\Users\\shubh\\AppData\\Roaming\\nltk_data...\n",
      "[nltk_data]    |   Package comtrans is already up-to-date!\n",
      "[nltk_data]    | Downloading package conll2000 to\n",
      "[nltk_data]    |     C:\\Users\\shubh\\AppData\\Roaming\\nltk_data...\n",
      "[nltk_data]    |   Package conll2000 is already up-to-date!\n",
      "[nltk_data]    | Downloading package conll2002 to\n",
      "[nltk_data]    |     C:\\Users\\shubh\\AppData\\Roaming\\nltk_data...\n",
      "[nltk_data]    |   Package conll2002 is already up-to-date!\n",
      "[nltk_data]    | Downloading package conll2007 to\n",
      "[nltk_data]    |     C:\\Users\\shubh\\AppData\\Roaming\\nltk_data...\n",
      "[nltk_data]    |   Package conll2007 is already up-to-date!\n",
      "[nltk_data]    | Downloading package crubadan to\n",
      "[nltk_data]    |     C:\\Users\\shubh\\AppData\\Roaming\\nltk_data...\n",
      "[nltk_data]    |   Package crubadan is already up-to-date!\n",
      "[nltk_data]    | Downloading package dependency_treebank to\n",
      "[nltk_data]    |     C:\\Users\\shubh\\AppData\\Roaming\\nltk_data...\n",
      "[nltk_data]    |   Package dependency_treebank is already up-to-date!\n",
      "[nltk_data]    | Downloading package dolch to\n",
      "[nltk_data]    |     C:\\Users\\shubh\\AppData\\Roaming\\nltk_data...\n",
      "[nltk_data]    |   Package dolch is already up-to-date!\n",
      "[nltk_data]    | Downloading package europarl_raw to\n",
      "[nltk_data]    |     C:\\Users\\shubh\\AppData\\Roaming\\nltk_data...\n",
      "[nltk_data]    |   Package europarl_raw is already up-to-date!\n",
      "[nltk_data]    | Downloading package floresta to\n",
      "[nltk_data]    |     C:\\Users\\shubh\\AppData\\Roaming\\nltk_data...\n",
      "[nltk_data]    |   Package floresta is already up-to-date!\n",
      "[nltk_data]    | Downloading package framenet_v15 to\n",
      "[nltk_data]    |     C:\\Users\\shubh\\AppData\\Roaming\\nltk_data...\n",
      "[nltk_data]    |   Package framenet_v15 is already up-to-date!\n",
      "[nltk_data]    | Downloading package framenet_v17 to\n",
      "[nltk_data]    |     C:\\Users\\shubh\\AppData\\Roaming\\nltk_data...\n",
      "[nltk_data]    |   Package framenet_v17 is already up-to-date!\n",
      "[nltk_data]    | Downloading package gazetteers to\n",
      "[nltk_data]    |     C:\\Users\\shubh\\AppData\\Roaming\\nltk_data...\n",
      "[nltk_data]    |   Package gazetteers is already up-to-date!\n",
      "[nltk_data]    | Downloading package genesis to\n",
      "[nltk_data]    |     C:\\Users\\shubh\\AppData\\Roaming\\nltk_data...\n",
      "[nltk_data]    |   Package genesis is already up-to-date!\n",
      "[nltk_data]    | Downloading package gutenberg to\n",
      "[nltk_data]    |     C:\\Users\\shubh\\AppData\\Roaming\\nltk_data...\n",
      "[nltk_data]    |   Package gutenberg is already up-to-date!\n",
      "[nltk_data]    | Downloading package ieer to\n",
      "[nltk_data]    |     C:\\Users\\shubh\\AppData\\Roaming\\nltk_data...\n",
      "[nltk_data]    |   Package ieer is already up-to-date!\n",
      "[nltk_data]    | Downloading package inaugural to\n",
      "[nltk_data]    |     C:\\Users\\shubh\\AppData\\Roaming\\nltk_data...\n",
      "[nltk_data]    |   Package inaugural is already up-to-date!\n",
      "[nltk_data]    | Downloading package indian to\n",
      "[nltk_data]    |     C:\\Users\\shubh\\AppData\\Roaming\\nltk_data...\n",
      "[nltk_data]    |   Package indian is already up-to-date!\n",
      "[nltk_data]    | Downloading package jeita to\n",
      "[nltk_data]    |     C:\\Users\\shubh\\AppData\\Roaming\\nltk_data...\n",
      "[nltk_data]    |   Package jeita is already up-to-date!\n",
      "[nltk_data]    | Downloading package kimmo to\n",
      "[nltk_data]    |     C:\\Users\\shubh\\AppData\\Roaming\\nltk_data...\n",
      "[nltk_data]    |   Package kimmo is already up-to-date!\n",
      "[nltk_data]    | Downloading package knbc to\n",
      "[nltk_data]    |     C:\\Users\\shubh\\AppData\\Roaming\\nltk_data...\n",
      "[nltk_data]    |   Package knbc is already up-to-date!\n",
      "[nltk_data]    | Downloading package lin_thesaurus to\n",
      "[nltk_data]    |     C:\\Users\\shubh\\AppData\\Roaming\\nltk_data...\n",
      "[nltk_data]    |   Package lin_thesaurus is already up-to-date!\n",
      "[nltk_data]    | Downloading package mac_morpho to\n",
      "[nltk_data]    |     C:\\Users\\shubh\\AppData\\Roaming\\nltk_data...\n",
      "[nltk_data]    |   Package mac_morpho is already up-to-date!\n",
      "[nltk_data]    | Downloading package machado to\n",
      "[nltk_data]    |     C:\\Users\\shubh\\AppData\\Roaming\\nltk_data...\n",
      "[nltk_data]    |   Package machado is already up-to-date!\n",
      "[nltk_data]    | Downloading package masc_tagged to\n",
      "[nltk_data]    |     C:\\Users\\shubh\\AppData\\Roaming\\nltk_data...\n",
      "[nltk_data]    |   Package masc_tagged is already up-to-date!\n",
      "[nltk_data]    | Downloading package moses_sample to\n",
      "[nltk_data]    |     C:\\Users\\shubh\\AppData\\Roaming\\nltk_data...\n",
      "[nltk_data]    |   Package moses_sample is already up-to-date!\n",
      "[nltk_data]    | Downloading package movie_reviews to\n",
      "[nltk_data]    |     C:\\Users\\shubh\\AppData\\Roaming\\nltk_data...\n",
      "[nltk_data]    |   Package movie_reviews is already up-to-date!\n",
      "[nltk_data]    | Downloading package names to\n",
      "[nltk_data]    |     C:\\Users\\shubh\\AppData\\Roaming\\nltk_data...\n",
      "[nltk_data]    |   Package names is already up-to-date!\n",
      "[nltk_data]    | Downloading package nombank.1.0 to\n",
      "[nltk_data]    |     C:\\Users\\shubh\\AppData\\Roaming\\nltk_data...\n",
      "[nltk_data]    |   Package nombank.1.0 is already up-to-date!\n",
      "[nltk_data]    | Downloading package nps_chat to\n",
      "[nltk_data]    |     C:\\Users\\shubh\\AppData\\Roaming\\nltk_data...\n",
      "[nltk_data]    |   Package nps_chat is already up-to-date!\n",
      "[nltk_data]    | Downloading package omw to\n",
      "[nltk_data]    |     C:\\Users\\shubh\\AppData\\Roaming\\nltk_data...\n",
      "[nltk_data]    |   Package omw is already up-to-date!\n",
      "[nltk_data]    | Downloading package opinion_lexicon to\n",
      "[nltk_data]    |     C:\\Users\\shubh\\AppData\\Roaming\\nltk_data...\n",
      "[nltk_data]    |   Package opinion_lexicon is already up-to-date!\n",
      "[nltk_data]    | Downloading package paradigms to\n",
      "[nltk_data]    |     C:\\Users\\shubh\\AppData\\Roaming\\nltk_data...\n",
      "[nltk_data]    |   Package paradigms is already up-to-date!\n",
      "[nltk_data]    | Downloading package pil to\n",
      "[nltk_data]    |     C:\\Users\\shubh\\AppData\\Roaming\\nltk_data...\n",
      "[nltk_data]    |   Package pil is already up-to-date!\n",
      "[nltk_data]    | Downloading package pl196x to\n",
      "[nltk_data]    |     C:\\Users\\shubh\\AppData\\Roaming\\nltk_data...\n",
      "[nltk_data]    |   Package pl196x is already up-to-date!\n",
      "[nltk_data]    | Downloading package ppattach to\n",
      "[nltk_data]    |     C:\\Users\\shubh\\AppData\\Roaming\\nltk_data...\n",
      "[nltk_data]    |   Package ppattach is already up-to-date!\n",
      "[nltk_data]    | Downloading package problem_reports to\n",
      "[nltk_data]    |     C:\\Users\\shubh\\AppData\\Roaming\\nltk_data...\n",
      "[nltk_data]    |   Package problem_reports is already up-to-date!\n",
      "[nltk_data]    | Downloading package propbank to\n",
      "[nltk_data]    |     C:\\Users\\shubh\\AppData\\Roaming\\nltk_data...\n"
     ]
    },
    {
     "name": "stderr",
     "output_type": "stream",
     "text": [
      "[nltk_data]    |   Package propbank is already up-to-date!\n",
      "[nltk_data]    | Downloading package ptb to\n",
      "[nltk_data]    |     C:\\Users\\shubh\\AppData\\Roaming\\nltk_data...\n",
      "[nltk_data]    |   Package ptb is already up-to-date!\n",
      "[nltk_data]    | Downloading package product_reviews_1 to\n",
      "[nltk_data]    |     C:\\Users\\shubh\\AppData\\Roaming\\nltk_data...\n",
      "[nltk_data]    |   Package product_reviews_1 is already up-to-date!\n",
      "[nltk_data]    | Downloading package product_reviews_2 to\n",
      "[nltk_data]    |     C:\\Users\\shubh\\AppData\\Roaming\\nltk_data...\n",
      "[nltk_data]    |   Package product_reviews_2 is already up-to-date!\n",
      "[nltk_data]    | Downloading package pros_cons to\n",
      "[nltk_data]    |     C:\\Users\\shubh\\AppData\\Roaming\\nltk_data...\n",
      "[nltk_data]    |   Package pros_cons is already up-to-date!\n",
      "[nltk_data]    | Downloading package qc to\n",
      "[nltk_data]    |     C:\\Users\\shubh\\AppData\\Roaming\\nltk_data...\n",
      "[nltk_data]    |   Package qc is already up-to-date!\n",
      "[nltk_data]    | Downloading package reuters to\n",
      "[nltk_data]    |     C:\\Users\\shubh\\AppData\\Roaming\\nltk_data...\n",
      "[nltk_data]    |   Package reuters is already up-to-date!\n",
      "[nltk_data]    | Downloading package rte to\n",
      "[nltk_data]    |     C:\\Users\\shubh\\AppData\\Roaming\\nltk_data...\n",
      "[nltk_data]    |   Package rte is already up-to-date!\n",
      "[nltk_data]    | Downloading package semcor to\n",
      "[nltk_data]    |     C:\\Users\\shubh\\AppData\\Roaming\\nltk_data...\n",
      "[nltk_data]    |   Package semcor is already up-to-date!\n",
      "[nltk_data]    | Downloading package senseval to\n",
      "[nltk_data]    |     C:\\Users\\shubh\\AppData\\Roaming\\nltk_data...\n",
      "[nltk_data]    |   Package senseval is already up-to-date!\n",
      "[nltk_data]    | Downloading package sentiwordnet to\n",
      "[nltk_data]    |     C:\\Users\\shubh\\AppData\\Roaming\\nltk_data...\n",
      "[nltk_data]    |   Package sentiwordnet is already up-to-date!\n",
      "[nltk_data]    | Downloading package sentence_polarity to\n",
      "[nltk_data]    |     C:\\Users\\shubh\\AppData\\Roaming\\nltk_data...\n",
      "[nltk_data]    |   Package sentence_polarity is already up-to-date!\n",
      "[nltk_data]    | Downloading package shakespeare to\n",
      "[nltk_data]    |     C:\\Users\\shubh\\AppData\\Roaming\\nltk_data...\n",
      "[nltk_data]    |   Package shakespeare is already up-to-date!\n",
      "[nltk_data]    | Downloading package sinica_treebank to\n",
      "[nltk_data]    |     C:\\Users\\shubh\\AppData\\Roaming\\nltk_data...\n",
      "[nltk_data]    |   Package sinica_treebank is already up-to-date!\n",
      "[nltk_data]    | Downloading package smultron to\n",
      "[nltk_data]    |     C:\\Users\\shubh\\AppData\\Roaming\\nltk_data...\n",
      "[nltk_data]    |   Package smultron is already up-to-date!\n",
      "[nltk_data]    | Downloading package state_union to\n",
      "[nltk_data]    |     C:\\Users\\shubh\\AppData\\Roaming\\nltk_data...\n",
      "[nltk_data]    |   Package state_union is already up-to-date!\n",
      "[nltk_data]    | Downloading package stopwords to\n",
      "[nltk_data]    |     C:\\Users\\shubh\\AppData\\Roaming\\nltk_data...\n",
      "[nltk_data]    |   Package stopwords is already up-to-date!\n",
      "[nltk_data]    | Downloading package subjectivity to\n",
      "[nltk_data]    |     C:\\Users\\shubh\\AppData\\Roaming\\nltk_data...\n",
      "[nltk_data]    |   Package subjectivity is already up-to-date!\n",
      "[nltk_data]    | Downloading package swadesh to\n",
      "[nltk_data]    |     C:\\Users\\shubh\\AppData\\Roaming\\nltk_data...\n",
      "[nltk_data]    |   Package swadesh is already up-to-date!\n",
      "[nltk_data]    | Downloading package switchboard to\n",
      "[nltk_data]    |     C:\\Users\\shubh\\AppData\\Roaming\\nltk_data...\n",
      "[nltk_data]    |   Package switchboard is already up-to-date!\n",
      "[nltk_data]    | Downloading package timit to\n",
      "[nltk_data]    |     C:\\Users\\shubh\\AppData\\Roaming\\nltk_data...\n",
      "[nltk_data]    |   Package timit is already up-to-date!\n",
      "[nltk_data]    | Downloading package toolbox to\n",
      "[nltk_data]    |     C:\\Users\\shubh\\AppData\\Roaming\\nltk_data...\n",
      "[nltk_data]    |   Package toolbox is already up-to-date!\n",
      "[nltk_data]    | Downloading package treebank to\n",
      "[nltk_data]    |     C:\\Users\\shubh\\AppData\\Roaming\\nltk_data...\n",
      "[nltk_data]    |   Package treebank is already up-to-date!\n",
      "[nltk_data]    | Downloading package twitter_samples to\n",
      "[nltk_data]    |     C:\\Users\\shubh\\AppData\\Roaming\\nltk_data...\n",
      "[nltk_data]    |   Package twitter_samples is already up-to-date!\n",
      "[nltk_data]    | Downloading package udhr to\n",
      "[nltk_data]    |     C:\\Users\\shubh\\AppData\\Roaming\\nltk_data...\n",
      "[nltk_data]    |   Package udhr is already up-to-date!\n",
      "[nltk_data]    | Downloading package udhr2 to\n",
      "[nltk_data]    |     C:\\Users\\shubh\\AppData\\Roaming\\nltk_data...\n",
      "[nltk_data]    |   Package udhr2 is already up-to-date!\n",
      "[nltk_data]    | Downloading package unicode_samples to\n",
      "[nltk_data]    |     C:\\Users\\shubh\\AppData\\Roaming\\nltk_data...\n",
      "[nltk_data]    |   Package unicode_samples is already up-to-date!\n",
      "[nltk_data]    | Downloading package universal_treebanks_v20 to\n",
      "[nltk_data]    |     C:\\Users\\shubh\\AppData\\Roaming\\nltk_data...\n",
      "[nltk_data]    |   Package universal_treebanks_v20 is already up-to-\n",
      "[nltk_data]    |       date!\n",
      "[nltk_data]    | Downloading package verbnet to\n",
      "[nltk_data]    |     C:\\Users\\shubh\\AppData\\Roaming\\nltk_data...\n",
      "[nltk_data]    |   Package verbnet is already up-to-date!\n",
      "[nltk_data]    | Downloading package verbnet3 to\n",
      "[nltk_data]    |     C:\\Users\\shubh\\AppData\\Roaming\\nltk_data...\n",
      "[nltk_data]    |   Package verbnet3 is already up-to-date!\n",
      "[nltk_data]    | Downloading package webtext to\n",
      "[nltk_data]    |     C:\\Users\\shubh\\AppData\\Roaming\\nltk_data...\n",
      "[nltk_data]    |   Package webtext is already up-to-date!\n",
      "[nltk_data]    | Downloading package wordnet to\n",
      "[nltk_data]    |     C:\\Users\\shubh\\AppData\\Roaming\\nltk_data...\n",
      "[nltk_data]    |   Package wordnet is already up-to-date!\n",
      "[nltk_data]    | Downloading package wordnet_ic to\n",
      "[nltk_data]    |     C:\\Users\\shubh\\AppData\\Roaming\\nltk_data...\n",
      "[nltk_data]    |   Package wordnet_ic is already up-to-date!\n",
      "[nltk_data]    | Downloading package words to\n",
      "[nltk_data]    |     C:\\Users\\shubh\\AppData\\Roaming\\nltk_data...\n",
      "[nltk_data]    |   Package words is already up-to-date!\n",
      "[nltk_data]    | Downloading package ycoe to\n",
      "[nltk_data]    |     C:\\Users\\shubh\\AppData\\Roaming\\nltk_data...\n",
      "[nltk_data]    |   Package ycoe is already up-to-date!\n",
      "[nltk_data]    | Downloading package rslp to\n",
      "[nltk_data]    |     C:\\Users\\shubh\\AppData\\Roaming\\nltk_data...\n",
      "[nltk_data]    |   Package rslp is already up-to-date!\n",
      "[nltk_data]    | Downloading package maxent_treebank_pos_tagger to\n",
      "[nltk_data]    |     C:\\Users\\shubh\\AppData\\Roaming\\nltk_data...\n",
      "[nltk_data]    |   Package maxent_treebank_pos_tagger is already up-\n",
      "[nltk_data]    |       to-date!\n",
      "[nltk_data]    | Downloading package universal_tagset to\n",
      "[nltk_data]    |     C:\\Users\\shubh\\AppData\\Roaming\\nltk_data...\n",
      "[nltk_data]    |   Package universal_tagset is already up-to-date!\n",
      "[nltk_data]    | Downloading package maxent_ne_chunker to\n",
      "[nltk_data]    |     C:\\Users\\shubh\\AppData\\Roaming\\nltk_data...\n",
      "[nltk_data]    |   Package maxent_ne_chunker is already up-to-date!\n",
      "[nltk_data]    | Downloading package punkt to\n",
      "[nltk_data]    |     C:\\Users\\shubh\\AppData\\Roaming\\nltk_data...\n",
      "[nltk_data]    |   Package punkt is already up-to-date!\n",
      "[nltk_data]    | Downloading package book_grammars to\n",
      "[nltk_data]    |     C:\\Users\\shubh\\AppData\\Roaming\\nltk_data...\n",
      "[nltk_data]    |   Package book_grammars is already up-to-date!\n",
      "[nltk_data]    | Downloading package sample_grammars to\n",
      "[nltk_data]    |     C:\\Users\\shubh\\AppData\\Roaming\\nltk_data...\n",
      "[nltk_data]    |   Package sample_grammars is already up-to-date!\n",
      "[nltk_data]    | Downloading package spanish_grammars to\n",
      "[nltk_data]    |     C:\\Users\\shubh\\AppData\\Roaming\\nltk_data...\n",
      "[nltk_data]    |   Package spanish_grammars is already up-to-date!\n",
      "[nltk_data]    | Downloading package basque_grammars to\n",
      "[nltk_data]    |     C:\\Users\\shubh\\AppData\\Roaming\\nltk_data...\n",
      "[nltk_data]    |   Package basque_grammars is already up-to-date!\n",
      "[nltk_data]    | Downloading package large_grammars to\n",
      "[nltk_data]    |     C:\\Users\\shubh\\AppData\\Roaming\\nltk_data...\n",
      "[nltk_data]    |   Package large_grammars is already up-to-date!\n",
      "[nltk_data]    | Downloading package tagsets to\n",
      "[nltk_data]    |     C:\\Users\\shubh\\AppData\\Roaming\\nltk_data...\n",
      "[nltk_data]    |   Package tagsets is already up-to-date!\n",
      "[nltk_data]    | Downloading package snowball_data to\n",
      "[nltk_data]    |     C:\\Users\\shubh\\AppData\\Roaming\\nltk_data...\n",
      "[nltk_data]    |   Package snowball_data is already up-to-date!\n",
      "[nltk_data]    | Downloading package bllip_wsj_no_aux to\n",
      "[nltk_data]    |     C:\\Users\\shubh\\AppData\\Roaming\\nltk_data...\n"
     ]
    },
    {
     "name": "stderr",
     "output_type": "stream",
     "text": [
      "[nltk_data]    |   Package bllip_wsj_no_aux is already up-to-date!\n",
      "[nltk_data]    | Downloading package word2vec_sample to\n",
      "[nltk_data]    |     C:\\Users\\shubh\\AppData\\Roaming\\nltk_data...\n",
      "[nltk_data]    |   Package word2vec_sample is already up-to-date!\n",
      "[nltk_data]    | Downloading package panlex_swadesh to\n",
      "[nltk_data]    |     C:\\Users\\shubh\\AppData\\Roaming\\nltk_data...\n",
      "[nltk_data]    |   Package panlex_swadesh is already up-to-date!\n",
      "[nltk_data]    | Downloading package mte_teip5 to\n",
      "[nltk_data]    |     C:\\Users\\shubh\\AppData\\Roaming\\nltk_data...\n",
      "[nltk_data]    |   Package mte_teip5 is already up-to-date!\n",
      "[nltk_data]    | Downloading package averaged_perceptron_tagger to\n",
      "[nltk_data]    |     C:\\Users\\shubh\\AppData\\Roaming\\nltk_data...\n",
      "[nltk_data]    |   Package averaged_perceptron_tagger is already up-\n",
      "[nltk_data]    |       to-date!\n",
      "[nltk_data]    | Downloading package averaged_perceptron_tagger_ru to\n",
      "[nltk_data]    |     C:\\Users\\shubh\\AppData\\Roaming\\nltk_data...\n",
      "[nltk_data]    |   Package averaged_perceptron_tagger_ru is already\n",
      "[nltk_data]    |       up-to-date!\n",
      "[nltk_data]    | Downloading package perluniprops to\n",
      "[nltk_data]    |     C:\\Users\\shubh\\AppData\\Roaming\\nltk_data...\n",
      "[nltk_data]    |   Package perluniprops is already up-to-date!\n",
      "[nltk_data]    | Downloading package nonbreaking_prefixes to\n",
      "[nltk_data]    |     C:\\Users\\shubh\\AppData\\Roaming\\nltk_data...\n",
      "[nltk_data]    |   Package nonbreaking_prefixes is already up-to-date!\n",
      "[nltk_data]    | Downloading package vader_lexicon to\n",
      "[nltk_data]    |     C:\\Users\\shubh\\AppData\\Roaming\\nltk_data...\n",
      "[nltk_data]    |   Package vader_lexicon is already up-to-date!\n",
      "[nltk_data]    | Downloading package porter_test to\n",
      "[nltk_data]    |     C:\\Users\\shubh\\AppData\\Roaming\\nltk_data...\n",
      "[nltk_data]    |   Package porter_test is already up-to-date!\n",
      "[nltk_data]    | Downloading package wmt15_eval to\n",
      "[nltk_data]    |     C:\\Users\\shubh\\AppData\\Roaming\\nltk_data...\n",
      "[nltk_data]    |   Package wmt15_eval is already up-to-date!\n",
      "[nltk_data]    | Downloading package mwa_ppdb to\n",
      "[nltk_data]    |     C:\\Users\\shubh\\AppData\\Roaming\\nltk_data...\n",
      "[nltk_data]    |   Package mwa_ppdb is already up-to-date!\n",
      "[nltk_data]    | \n",
      "[nltk_data]  Done downloading collection all\n"
     ]
    },
    {
     "data": {
      "text/plain": [
       "True"
      ]
     },
     "execution_count": 19,
     "metadata": {},
     "output_type": "execute_result"
    }
   ],
   "source": [
    "from sklearn.feature_extraction.text import CountVectorizer\n",
    "from sklearn.feature_extraction.text import TfidfTransformer, TfidfVectorizer\n",
    "\n",
    "import nltk\n",
    "import nltk.corpus\n",
    "from nltk.tokenize import word_tokenize\n",
    "from gensim.models.word2vec import Word2Vec\n",
    "from sklearn.pipeline import Pipeline\n",
    "nltk.download('all')"
   ]
  },
  {
   "cell_type": "code",
   "execution_count": 20,
   "metadata": {
    "colab": {
     "base_uri": "https://localhost:8080/",
     "height": 974
    },
    "colab_type": "code",
    "id": "mHKl5UL4ndZK",
    "outputId": "bf202fc8-ddcf-4329-c9b7-3a6dbc770c5b"
   },
   "outputs": [
    {
     "name": "stdout",
     "output_type": "stream",
     "text": [
      "CountVectorizer()\n",
      "  (0, 6937)\t1\n",
      "  (0, 7856)\t1\n",
      "  (0, 725)\t1\n",
      "  (0, 4756)\t1\n",
      "  (0, 5981)\t1\n",
      "  (0, 3660)\t1\n",
      "  (0, 7660)\t1\n",
      "  (0, 7885)\t1\n",
      "  (0, 8078)\t1\n",
      "  (0, 425)\t1\n",
      "  (0, 5529)\t1\n",
      "  (0, 2350)\t1\n",
      "  (1, 7856)\t1\n",
      "  (1, 8544)\t2\n",
      "  (1, 2465)\t1\n",
      "  (1, 2274)\t1\n",
      "  (1, 5492)\t1\n",
      "  (1, 1762)\t1\n",
      "  (1, 7455)\t1\n",
      "  (1, 4335)\t1\n",
      "  (1, 7456)\t2\n",
      "  (1, 5314)\t1\n",
      "  (1, 3479)\t1\n",
      "  (1, 7962)\t1\n",
      "  (1, 5493)\t1\n",
      "  :\t:\n",
      "  (5011, 7856)\t1\n",
      "  (5011, 5492)\t2\n",
      "  (5011, 7939)\t2\n",
      "  (5011, 5611)\t1\n",
      "  (5011, 5608)\t1\n",
      "  (5011, 3759)\t1\n",
      "  (5011, 4528)\t1\n",
      "  (5011, 8690)\t2\n",
      "  (5011, 810)\t1\n",
      "  (5011, 7869)\t1\n",
      "  (5011, 2376)\t1\n",
      "  (5011, 8696)\t1\n",
      "  (5011, 7862)\t1\n",
      "  (5011, 8338)\t2\n",
      "  (5011, 4730)\t1\n",
      "  (5011, 558)\t1\n",
      "  (5011, 1816)\t1\n",
      "  (5011, 6437)\t1\n",
      "  (5011, 7620)\t1\n",
      "  (5011, 8309)\t1\n",
      "  (5011, 2843)\t1\n",
      "  (5011, 7571)\t1\n",
      "  (5011, 1833)\t1\n",
      "  (5011, 7802)\t1\n",
      "  (5011, 4915)\t1\n"
     ]
    }
   ],
   "source": [
    "# creating word matrix  with bag of word technique\n",
    "countV = CountVectorizer()\n",
    "train_count = countV.fit_transform(train['Statement'].values)\n",
    "\n",
    "print(countV)\n",
    "print(train_count)\n",
    "\n",
    "def countVectorizer_matrix():\n",
    "    \n",
    "    #vocab size\n",
    "    train_count.shape\n",
    "\n",
    "    #check vocabulary using below command\n",
    "    print(countV.vocabulary_)\n",
    "\n",
    "    #get feature names\n",
    "    print(countV.get_feature_names()[:25])\n",
    "\n"
   ]
  },
  {
   "cell_type": "code",
   "execution_count": 21,
   "metadata": {
    "colab": {},
    "colab_type": "code",
    "id": "u6E_odQBnlJt"
   },
   "outputs": [],
   "source": [
    "# create tf-df features \n",
    "tfidfV = TfidfTransformer()\n",
    "\n",
    "train_tfidf = tfidfV.fit_transform(train_count)"
   ]
  },
  {
   "cell_type": "code",
   "execution_count": 22,
   "metadata": {
    "colab": {},
    "colab_type": "code",
    "id": "mluLE3vHnriM"
   },
   "outputs": [],
   "source": [
    "def tfidf_matrix():\n",
    "    train_tfidf.shape\n",
    "    #get train data feature names \n",
    "    print(train_tfidf.A[:10])\n",
    "\n",
    "\n",
    "#bag of words - with n-grams\n",
    "#tfidf_ngram  = TfidfTransformer(use_idf=True,smooth_idf=True)\n",
    "\n",
    "tfidf_ngram = TfidfVectorizer(stop_words='english',ngram_range=(1,4),use_idf = True,smooth_idf = True)\n",
    "\n"
   ]
  },
  {
   "cell_type": "code",
   "execution_count": 23,
   "metadata": {
    "colab": {
     "base_uri": "https://localhost:8080/",
     "height": 1000
    },
    "colab_type": "code",
    "id": "yQOO_S6antDg",
    "outputId": "38f4e81b-9682-4b2e-f36c-194ad8f3abba"
   },
   "outputs": [
    {
     "name": "stderr",
     "output_type": "stream",
     "text": [
      "[nltk_data] Downloading package averaged_perceptron_tagger to\n",
      "[nltk_data]     C:\\Users\\shubh\\AppData\\Roaming\\nltk_data...\n",
      "[nltk_data]   Package averaged_perceptron_tagger is already up-to-\n",
      "[nltk_data]       date!\n"
     ]
    },
    {
     "name": "stdout",
     "output_type": "stream",
     "text": [
      "0       Says the Annies List political group supports ...\n",
      "1       When did the decline of coal start? It started...\n",
      "2       \"Hillary Clinton agrees with John McCain \"\"by ...\n",
      "3       However, it took $19.5 million in Oregon Lotte...\n",
      "4       Says GOP primary opponents Glenn Grothman and ...\n",
      "                              ...                        \n",
      "5007    There are a larger number of shark attacks in ...\n",
      "5008    Democrats have now become the party of the [At...\n",
      "5009    Says an alternative to Social Security that op...\n",
      "5010    On lifting the U.S. Cuban embargo and allowing...\n",
      "5011    The Department of Veterans Affairs has a manua...\n",
      "Name: Statement, Length: 5012, dtype: object\n"
     ]
    }
   ],
   "source": [
    "# Tags\n",
    "nltk.download('averaged_perceptron_tagger')\n",
    "tagged_sentences = nltk.corpus.treebank.tagged_sents()\n",
    "\n",
    "cutoff = int(.75 * len(tagged_sentences))\n",
    "training_sentences = train['Statement']\n",
    " \n",
    "print(training_sentences)"
   ]
  },
  {
   "cell_type": "code",
   "execution_count": 24,
   "metadata": {
    "colab": {},
    "colab_type": "code",
    "id": "IzFAIMFwnwHX"
   },
   "outputs": [],
   "source": [
    "\n",
    "def features_Scale(sentence, index):\n",
    "    \"\"\" sentence: [w1, w2, ...], index: the index of the word \"\"\"\n",
    "    return {\n",
    "        'word': sentence[index],\n",
    "        'is_first': index == 0,\n",
    "        'is_last': index == len(sentence) - 1,\n",
    "        'is_capitalized': sentence[index][0].upper() == sentence[index][0],\n",
    "        'is_all_caps': sentence[index].upper() == sentence[index],\n",
    "        'is_all_lower': sentence[index].lower() == sentence[index],\n",
    "        'prefix-1': sentence[index][0],\n",
    "        'prefix-2': sentence[index][:2],\n",
    "        'prefix-3': sentence[index][:3],\n",
    "        'suffix-1': sentence[index][-1],\n",
    "        'suffix-2': sentence[index][-2:],\n",
    "        'suffix-3': sentence[index][-3:],\n",
    "        'prev_word': '' if index == 0 else sentence[index - 1],\n",
    "        'next_word': '' if index == len(sentence) - 1 else sentence[index + 1],\n",
    "        'has_hyphen': '-' in sentence[index],\n",
    "        'is_numeric': sentence[index].isdigit(),\n",
    "        'capitals_inside': sentence[index][1:].lower() != sentence[index][1:]\n",
    "    }\n",
    "    "
   ]
  },
  {
   "cell_type": "code",
   "execution_count": 25,
   "metadata": {
    "colab": {},
    "colab_type": "code",
    "id": "eCqh0wN_oN3k"
   },
   "outputs": [],
   "source": [
    "# Fuction to strips the tags\n",
    "\n",
    "def untagging(tagged_sentences):\n",
    "    return [w for w,t in tagged_sentences]\n",
    "\n",
    "# Applying Word2vec\n",
    "\n",
    "with open(\"glove.6B.50d.txt\", \"rb\") as lines:\n",
    "    w2v = {line.split()[0]: np.array(map(float, line.split()[1:]))\n",
    "        for line in lines}\n",
    "\n",
    "class MeanEmbeddingVectorizer(object):\n",
    "    def __init__(self, word2vec):\n",
    "        self.word2vec = word2vec\n",
    "        # if a text is empty we should return a vector of zeros\n",
    "        # with the same dimensionality as all the other vectors\n",
    "        self.dim = len(word2vec.itervalues().next())\n",
    "\n",
    "    def fit(self, X, y):\n",
    "        return self\n",
    "\n",
    "    def transform(self, X):\n",
    "        return np.array([\n",
    "            np.mean([self.word2vec[w] for w in words if w in self.word2vec]\n",
    "                    or [np.zeros(self.dim)], axis=0)\n",
    "            for words in X\n",
    "        ])"
   ]
  },
  {
   "cell_type": "code",
   "execution_count": 26,
   "metadata": {
    "colab": {},
    "colab_type": "code",
    "id": "1zS3OXQsoXUS"
   },
   "outputs": [],
   "source": [
    "class MeanEmbeddingVectorizer(object):\n",
    "    def __init__(self, word2vec):\n",
    "        self.word2vec = word2vec\n",
    "        # if a text is empty we should return a vector of zeros\n",
    "        # with the same dimensionality as all the other vectors\n",
    "        self.dim = len(word2vec.itervalues().next())\n",
    "\n",
    "    def fit(self, X, y):\n",
    "        return self\n",
    "\n",
    "    def transform(self, X):\n",
    "        return np.array([\n",
    "            np.mean([self.word2vec[w] for w in words if w in self.word2vec]\n",
    "                    or [np.zeros(self.dim)], axis=0)\n",
    "            for words in X\n",
    "        ])"
   ]
  },
  {
   "cell_type": "markdown",
   "metadata": {
    "colab_type": "text",
    "id": "w_kEonlPoiU5"
   },
   "source": [
    "* ## Classification\n",
    "* Six-Way Classification"
   ]
  },
  {
   "cell_type": "code",
   "execution_count": 27,
   "metadata": {
    "colab": {},
    "colab_type": "code",
    "id": "zfkifcMnoh7M"
   },
   "outputs": [],
   "source": [
    "from sklearn.naive_bayes import MultinomialNB\n",
    "from sklearn.ensemble import RandomForestClassifier\n",
    "from sklearn.model_selection import learning_curve,  GridSearchCV\n",
    "from sklearn.metrics import precision_recall_curve, average_precision_score\n",
    "from sklearn.pipeline import Pipeline\n",
    "from sklearn.linear_model import SGDClassifier\n",
    "from sklearn.ensemble import RandomForestClassifier\n",
    "#from sklearn.model_selection import KFold\n",
    "from sklearn.model_selection import GridSearchCV\n",
    "from sklearn.model_selection import learning_curve\n",
    "import matplotlib.pyplot as plt\n",
    "from sklearn.metrics import precision_recall_curve\n",
    "from sklearn.metrics import average_precision_score"
   ]
  },
  {
   "cell_type": "code",
   "execution_count": 28,
   "metadata": {
    "colab": {},
    "colab_type": "code",
    "id": "JbqquksVocv1"
   },
   "outputs": [],
   "source": [
    "#string to test\n",
    "#doc_new = ['Says Rush Limbaugh made it clear hed rather see the country fail than President Barack Obama succeed.']\n",
    "statement_doc = ['We are already almost halfway to our 2010 goal of creating 700,000 new jobs in seven years.']"
   ]
  },
  {
   "cell_type": "markdown",
   "metadata": {
    "colab_type": "text",
    "id": "-cCw_4m-pHNx"
   },
   "source": [
    "Using Bag Words Technique using previous features that we scalled we classify the dataset with:\n",
    "\n",
    "* Random Forest Classification Algorithm"
   ]
  },
  {
   "cell_type": "code",
   "execution_count": 29,
   "metadata": {
    "colab": {
     "base_uri": "https://localhost:8080/",
     "height": 50
    },
    "colab_type": "code",
    "id": "XQFeckRLpCwg",
    "outputId": "1d8c7adb-62cc-468a-e0d8-38e8ab069258"
   },
   "outputs": [
    {
     "name": "stdout",
     "output_type": "stream",
     "text": [
      "Accuracy: \n"
     ]
    },
    {
     "data": {
      "text/plain": [
       "0.26045777426992894"
      ]
     },
     "execution_count": 29,
     "metadata": {},
     "output_type": "execute_result"
    }
   ],
   "source": [
    "#Random Forest\n",
    "random_forest = Pipeline([\n",
    "        ('rfCV',countV),\n",
    "        ])\n",
    "print(\"Accuracy: \")    \n",
    "random_forest.fit(train['Statement'],train['Label'])\n",
    "predicted_rf = random_forest.predict(test['Statement'])\n",
    "np.mean(predicted_rf == test['Label'])"
   ]
  },
  {
   "cell_type": "code",
   "execution_count": 30,
   "metadata": {
    "colab": {},
    "colab_type": "code",
    "id": "yFc3WOoJG2Io"
   },
   "outputs": [],
   "source": [
    "# # from sklearn import svm\n",
    "# # from sklearn.feature_selection import FeatureSelection\n",
    "\n",
    "# # svm_pipeline = Pipeline([\n",
    "# #         ('svm2CV',FeatureSelection.countV),\n",
    "# #         ('svm2_clf',SGDClassifier(loss='hinge', penalty='l2', alpha=1e-3, n_iter=5))\n",
    "# #         ])\n",
    "\n",
    "# # svm_pipeline.fit(train['Statement'],train['Label'])\n",
    "# # predicted_svm = svm_pipeline.predict(test['Statement'])\n",
    "# # np.mean(predicted_svm == test['Label'])\n",
    "\n",
    "# import pandas as pd\n",
    "# import numpy as np\n",
    "# import keras\n",
    "# import keras.utils\n",
    "# from keras import utils as np_utils\n",
    "# import matplotlib.pyplot as plt\n",
    "# %matplotlib inline\n",
    "# from sklearn.model_selection import train_test_split\n",
    "# from sklearn.preprocessing import LabelEncoder\n",
    "# from keras.models import Model\n",
    "# from keras.layers import LSTM, Activation, Dense, Dropout, Input, Embedding\n",
    "# from keras.optimizers import RMSprop\n",
    "# from keras.preprocessing.text import Tokenizer\n",
    "# from keras.preprocessing import sequence\n",
    "# from keras.utils import to_categorical\n",
    "# from keras.callbacks import EarlyStopping\n",
    "# from keras import regularizers\n",
    "# from keras import optimizers\n",
    "# from keras.models import Sequential\n",
    "# import tensorflow as tf\n",
    "\n",
    "# from getEmbeddings import getEmbeddings\n",
    "import matplotlib.pyplot as plt\n",
    "import numpy as np\n",
    "import keras\n",
    "from keras import backend as K\n",
    "from keras.utils import np_utils\n",
    "from keras.models import Sequential\n",
    "from keras.layers import Dense, Dropout, LSTM, Embedding, Input, RepeatVector\n",
    "from keras.optimizers import SGD\n",
    "from sklearn.preprocessing import LabelEncoder\n",
    "from sklearn.model_selection import train_test_split\n",
    "# import scikitplot.plotters as skplt\n",
    "\n",
    "# max_words = 1000\n",
    "# max_len = 150\n",
    "# tok = Tokenizer(num_words=max_words)\n",
    "# tok.fit_on_texts(train)\n",
    "# sequences = tok.texts_to_sequences(train['Statement'])\n",
    "# sequences_matrix = sequence.pad_sequences(sequences,maxlen=max_len)\n",
    "\n",
    "# model = keras.Sequential([keras.layers.Flatten(input_shape = train.shape),\n",
    "#                 keras.layers.Dense(128,activation = tf.nn.sigmoid),                          \n",
    "#                 keras.layers.Dense(10,activation = tf.nn.softmax)])\n",
    "# model.compile(optimizer = 'adam',loss='sparse_categorical_crossentropy',metrics =['accuracy'])\n",
    "# def baseline_model():\n",
    "#     '''Neural network with 3 hidden layers'''\n",
    "#     model = Sequential()\n",
    "#     model.add(Dense(256, input_dim=300, activation='relu', kernel_initializer='normal'))\n",
    "#     model.add(Dropout(0.3))\n",
    "#     model.add(Dense(256, activation='relu', kernel_initializer='normal'))\n",
    "#     model.add(Dropout(0.5))\n",
    "#     model.add(Dense(80, activation='relu', kernel_initializer='normal'))\n",
    "#     model.add(Dense(2, activation=\"softmax\", kernel_initializer='normal'))\n",
    "\n",
    "#     # gradient descent\n",
    "#     sgd = SGD(lr=0.01, decay=1e-6, momentum=0.9, nesterov=True)\n",
    "    \n",
    "#     # configure the learning process of the model\n",
    "#     model.compile(loss='categorical_crossentropy', optimizer=sgd, metrics=['accuracy'])\n",
    "#     return model\n",
    "\n",
    "\n",
    "# model = baseline_model()\n",
    "# model.summary()\n",
    "# # x_train, x_test, y_train, y_test = train_test_split(xtr, ytr, test_size=0.2, random_state=42)\n",
    "# label_encoder = LabelEncoder()\n",
    "# label_encoder.fit(train['Label'])# state->label\n",
    "# encoded_y = np_utils.to_categorical((label_encoder.transform(train['Label'])))## y_train=train['Statement'], x_test=test['Label']\n",
    "# label_encoder.fit(test['Label'])\n",
    "# encoded_test['Statement'] = np_utils.to_categorical((label_encoder.transform(test['Statement'])))\n",
    "# estimator = model.fit(train['Statement'], encoded_y, epochs=20, batch_size=64)\n",
    "# print(\"Model Trained!\")\n",
    "# score = model.evaluate(test['Label'], encoded_test['Statement'])\n",
    "# print(\"\")\n",
    "# print(\"Accuracy = \" + format(score[1]*100, '.2f') + \"%\")   "
   ]
  },
  {
   "cell_type": "code",
   "execution_count": 31,
   "metadata": {
    "colab": {},
    "colab_type": "code",
    "id": "P0Qz6mpvK93i"
   },
   "outputs": [],
   "source": [
    "# model.fit(train['Statement'], train['Label'],epochs = 5)"
   ]
  },
  {
   "cell_type": "code",
   "execution_count": 32,
   "metadata": {
    "colab": {
     "base_uri": "https://localhost:8080/",
     "height": 84
    },
    "colab_type": "code",
    "id": "ncMKhKS1ruAs",
    "outputId": "53a4a586-7a74-4399-ec04-6317457c6fa5"
   },
   "outputs": [
    {
     "name": "stdout",
     "output_type": "stream",
     "text": [
      "Requirement already up-to-date: Scikit-learn in c:\\users\\shubh\\anaconda3\\lib\\site-packages (0.24.1)\n",
      "Requirement already satisfied, skipping upgrade: threadpoolctl>=2.0.0 in c:\\users\\shubh\\anaconda3\\lib\\site-packages (from Scikit-learn) (2.1.0)\n",
      "Requirement already satisfied, skipping upgrade: joblib>=0.11 in c:\\users\\shubh\\anaconda3\\lib\\site-packages (from Scikit-learn) (0.16.0)\n",
      "Requirement already satisfied, skipping upgrade: scipy>=0.19.1 in c:\\users\\shubh\\anaconda3\\lib\\site-packages (from Scikit-learn) (1.5.0)\n",
      "Requirement already satisfied, skipping upgrade: numpy>=1.13.3 in c:\\users\\shubh\\anaconda3\\lib\\site-packages (from Scikit-learn) (1.19.5)\n"
     ]
    }
   ],
   "source": [
    "! pip install -U Scikit-learn"
   ]
  },
  {
   "cell_type": "code",
   "execution_count": 33,
   "metadata": {
    "colab": {
     "base_uri": "https://localhost:8080/",
     "height": 504
    },
    "colab_type": "code",
    "id": "wYyX95W7pOLa",
    "outputId": "2b86de38-073a-42e5-ee02-020ef9b032d3"
   },
   "outputs": [
    {
     "name": "stdout",
     "output_type": "stream",
     "text": [
      "Confusion Matrix ==> \n",
      "\n",
      " [[126   1  19  11  33  59   0]\n",
      " [  0   0   0   0   0   0   0]\n",
      " [ 64   0  29   6  31  78   0]\n",
      " [ 88   0  12  20  35  57   0]\n",
      " [104   0  21  15  56  69   0]\n",
      " [ 74   0  20  11  40  96   0]\n",
      " [ 44   0   4   7  22  12   3]]\n",
      "\n",
      "\n",
      " Accuracy Score:  26.045777426992895\n",
      "\n",
      "____________________________________________________________________\n",
      "\n",
      "Classification Report of Random Forest: \n",
      "\n",
      "                                                                                                     precision    recall  f1-score   support\n",
      "\n",
      "                                                                                             FALSE       0.25      0.51      0.34       249\n",
      "Our income, our GDP per capita, is almost 50 percent higher than (it is for) the average European.       0.00      0.00      0.00         0\n",
      "                                                                                              TRUE       0.28      0.14      0.19       208\n",
      "                                                                                       barely-true       0.29      0.09      0.14       212\n",
      "                                                                                         half-true       0.26      0.21      0.23       265\n",
      "                                                                                       mostly-true       0.26      0.40      0.31       241\n",
      "                                                                                        pants-fire       1.00      0.03      0.06        92\n",
      "\n",
      "                                                                                          accuracy                           0.26      1267\n",
      "                                                                                         macro avg       0.33      0.20      0.18      1267\n",
      "                                                                                      weighted avg       0.32      0.26      0.23      1267\n",
      "\n"
     ]
    },
    {
     "name": "stderr",
     "output_type": "stream",
     "text": [
      "C:\\Users\\shubh\\Anaconda3\\lib\\site-packages\\sklearn\\metrics\\_classification.py:1245: UndefinedMetricWarning: Recall and F-score are ill-defined and being set to 0.0 in labels with no true samples. Use `zero_division` parameter to control this behavior.\n",
      "  _warn_prf(average, modifier, msg_start, len(result))\n",
      "C:\\Users\\shubh\\Anaconda3\\lib\\site-packages\\sklearn\\metrics\\_classification.py:1245: UndefinedMetricWarning: Recall and F-score are ill-defined and being set to 0.0 in labels with no true samples. Use `zero_division` parameter to control this behavior.\n",
      "  _warn_prf(average, modifier, msg_start, len(result))\n",
      "C:\\Users\\shubh\\Anaconda3\\lib\\site-packages\\sklearn\\metrics\\_classification.py:1245: UndefinedMetricWarning: Recall and F-score are ill-defined and being set to 0.0 in labels with no true samples. Use `zero_division` parameter to control this behavior.\n",
      "  _warn_prf(average, modifier, msg_start, len(result))\n"
     ]
    }
   ],
   "source": [
    "from sklearn.metrics import confusion_matrix\n",
    "from sklearn.metrics import classification_report\n",
    "from sklearn.metrics import accuracy_score\n",
    "print(\"Confusion Matrix ==> \\n\\n\", confusion_matrix(test['Label'], predicted_rf))\n",
    "print(\"\\n\\n Accuracy Score: \", accuracy_score(test['Label'], predicted_rf)*100)\n",
    "print(\"\\n____________________________________________________________________\\n\")\n",
    "print(\"Classification Report of Random Forest: \\n\\n\", classification_report(test['Label'], predicted_rf))"
   ]
  },
  {
   "cell_type": "markdown",
   "metadata": {
    "colab_type": "text",
    "id": "tRSmwq1n06d2"
   },
   "source": [
    "* ## Prediction Test of a Model..."
   ]
  },
  {
   "cell_type": "code",
   "execution_count": 34,
   "metadata": {},
   "outputs": [],
   "source": [
    "import pickle"
   ]
  },
  {
   "cell_type": "code",
   "execution_count": 35,
   "metadata": {
    "colab": {},
    "colab_type": "code",
    "id": "QrntZycjuoFw"
   },
   "outputs": [],
   "source": [
    "Saved_model = 'Model.sav'\n",
    "pickle.dump(random_forest,open(Saved_model,'wb'))"
   ]
  },
  {
   "cell_type": "code",
   "execution_count": 49,
   "metadata": {
    "colab": {
     "base_uri": "https://localhost:8080/",
     "height": 84
    },
    "colab_type": "code",
    "id": "40fyijeKtJaA",
    "outputId": "29fa2f13-31c3-445d-8a25-7cec3b1c5e19"
   },
   "outputs": [
    {
     "name": "stdout",
     "output_type": "stream",
     "text": [
      "Enter the news text you want to test or verify: The rainfall in India is going to be 28% higher in 2022\n",
      "Your Entry: The rainfall in India is going to be 28% higher in 2022\n",
      "Folowing Statement predicted as:   FALSE\n",
      "The truth probability score will be:   0.35428571428571426\n"
     ]
    }
   ],
   "source": [
    "var = input(\"Enter the news text you want to test or verify: \")\n",
    "print(\"Your Entry: \" + str(var))\n",
    "\n",
    "# Here we go with the prediction:\n",
    "def detecting_fake_news(var):    \n",
    "    load_model = pickle.load(open('Model.sav', 'rb'))\n",
    "    prediction = load_model.predict([var])\n",
    "    prob = load_model.predict_proba([var])\n",
    "\n",
    "    return (print(\"Folowing Statement predicted as:  \",prediction[0]),\n",
    "        print(\"The truth probability score will be:  \",prob[0][1]))\n",
    "  \n",
    "if __name__ == '__main__':\n",
    "    detecting_fake_news(var)"
   ]
  },
  {
   "cell_type": "code",
   "execution_count": null,
   "metadata": {},
   "outputs": [],
   "source": [
    "Random\n",
    "LSTM\n",
    "SVM"
   ]
  }
 ],
 "metadata": {
  "accelerator": "GPU",
  "colab": {
   "collapsed_sections": [],
   "name": "Fake_News_Detector(Task 2).ipynb",
   "provenance": [],
   "version": "0.3.2"
  },
  "kernelspec": {
   "display_name": "Python 3",
   "language": "python",
   "name": "python3"
  },
  "language_info": {
   "codemirror_mode": {
    "name": "ipython",
    "version": 3
   },
   "file_extension": ".py",
   "mimetype": "text/x-python",
   "name": "python",
   "nbconvert_exporter": "python",
   "pygments_lexer": "ipython3",
   "version": "3.8.3"
  }
 },
 "nbformat": 4,
 "nbformat_minor": 1
}
